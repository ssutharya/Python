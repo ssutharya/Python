{
  "nbformat": 4,
  "nbformat_minor": 0,
  "metadata": {
    "colab": {
      "provenance": [],
      "authorship_tag": "ABX9TyNDh+KglTOGNor1mFWvMIv2",
      "include_colab_link": true
    },
    "kernelspec": {
      "name": "python3",
      "display_name": "Python 3"
    },
    "language_info": {
      "name": "python"
    }
  },
  "cells": [
    {
      "cell_type": "markdown",
      "metadata": {
        "id": "view-in-github",
        "colab_type": "text"
      },
      "source": [
        "<a href=\"https://colab.research.google.com/github/ssutharya/Python/blob/main/Basics.ipynb\" target=\"_parent\"><img src=\"https://colab.research.google.com/assets/colab-badge.svg\" alt=\"Open In Colab\"/></a>"
      ]
    },
    {
      "cell_type": "code",
      "execution_count": null,
      "metadata": {
        "colab": {
          "base_uri": "https://localhost:8080/"
        },
        "id": "R-VXNYm8bXQ_",
        "outputId": "13852d1d-8787-4f4b-c9b9-bde954b616ea"
      },
      "outputs": [
        {
          "output_type": "stream",
          "name": "stdout",
          "text": [
            "Hello World :)\n"
          ]
        }
      ],
      "source": [
        "print(\"Hello World :)\")"
      ]
    },
    {
      "cell_type": "code",
      "source": [
        "a=5\n",
        "b=4.6\n",
        "s=\"hehe\"\n",
        "print(type(a))\n",
        "print(type(b))\n",
        "print(type(s))"
      ],
      "metadata": {
        "colab": {
          "base_uri": "https://localhost:8080/"
        },
        "id": "puUphLEfb_Q5",
        "outputId": "0b112dcd-fc16-43d0-b349-24c58d773983"
      },
      "execution_count": null,
      "outputs": [
        {
          "output_type": "stream",
          "name": "stdout",
          "text": [
            "<class 'int'>\n",
            "<class 'float'>\n",
            "<class 'str'>\n"
          ]
        }
      ]
    },
    {
      "cell_type": "code",
      "source": [
        "b=True\n",
        "print(type(b))"
      ],
      "metadata": {
        "colab": {
          "base_uri": "https://localhost:8080/"
        },
        "id": "zHBgGdcicFYH",
        "outputId": "52a73d62-e7bf-47c3-9ca5-73e86eb38382"
      },
      "execution_count": null,
      "outputs": [
        {
          "output_type": "stream",
          "name": "stdout",
          "text": [
            "<class 'bool'>\n"
          ]
        }
      ]
    },
    {
      "cell_type": "code",
      "source": [],
      "metadata": {
        "id": "kZ-OLiwsdH5v"
      },
      "execution_count": null,
      "outputs": []
    },
    {
      "cell_type": "code",
      "source": [
        "r=5+6j\n",
        "print(r)\n",
        "print(type(r))"
      ],
      "metadata": {
        "colab": {
          "base_uri": "https://localhost:8080/"
        },
        "id": "9ICDVSpodH7T",
        "outputId": "0b75ea31-137b-4fb5-e58b-3f314bf2abfb"
      },
      "execution_count": null,
      "outputs": [
        {
          "output_type": "stream",
          "name": "stdout",
          "text": [
            "(5+6j)\n",
            "<class 'complex'>\n"
          ]
        }
      ]
    },
    {
      "cell_type": "code",
      "source": [
        "a=5\n",
        "b=3\n",
        "\n",
        "sum=a+b\n",
        "print(sum)\n",
        "\n",
        "diff=a-b\n",
        "print(diff)\n",
        "\n",
        "prod=a*b\n",
        "print(prod)\n",
        "\n",
        "quo=a/b\n",
        "print(quo)\n",
        "\n",
        "floor=a//b\n",
        "print(floor)\n",
        "\n",
        "mod=a%b\n",
        "print(mod)\n",
        "\n",
        "expo=a**b\n",
        "print(expo)"
      ],
      "metadata": {
        "colab": {
          "base_uri": "https://localhost:8080/"
        },
        "id": "r-_Wy6_BhLIw",
        "outputId": "adb91eed-1759-4f82-e9ba-8ca9e4742707"
      },
      "execution_count": null,
      "outputs": [
        {
          "output_type": "stream",
          "name": "stdout",
          "text": [
            "8\n",
            "2\n",
            "15\n",
            "1.6666666666666667\n",
            "1\n",
            "2\n",
            "125\n"
          ]
        }
      ]
    },
    {
      "cell_type": "code",
      "source": [
        "a=3\n",
        "b=4\n",
        "c=5\n",
        "avg=(a+b+c)/3\n",
        "print(avg)"
      ],
      "metadata": {
        "colab": {
          "base_uri": "https://localhost:8080/"
        },
        "id": "lSABzXZXlDkD",
        "outputId": "e7748994-34b9-413e-b70d-4273884e3553"
      },
      "execution_count": null,
      "outputs": [
        {
          "output_type": "stream",
          "name": "stdout",
          "text": [
            "4.0\n"
          ]
        }
      ]
    },
    {
      "cell_type": "code",
      "source": [
        "#finding average values of 3 numbers\n",
        "\n",
        "a=int(input(\"Enter first integer: \"))\n",
        "b=int(input(\"Enter second integer: \"))\n",
        "c=int(input(\"Enter third integer: \"))\n",
        "\n",
        "avg=(a+b+c)/3\n",
        "print(\"Average of all 3 integers is: \",avg)"
      ],
      "metadata": {
        "colab": {
          "base_uri": "https://localhost:8080/"
        },
        "id": "Pr0qaDyvoVz5",
        "outputId": "fd940d0d-4a93-4f66-8e10-903d6d6f2b30"
      },
      "execution_count": null,
      "outputs": [
        {
          "output_type": "stream",
          "name": "stdout",
          "text": [
            "Enter first integer: 6\n",
            "Enter second integer: 2\n",
            "Enter third integer: 1\n",
            "Average of all 3 integers is:  3.0\n"
          ]
        }
      ]
    },
    {
      "cell_type": "code",
      "source": [
        "#area and perimeter of a triangle\n",
        "\n",
        "import math\n",
        "\n",
        "s1=int(input(\"enter side 1 of the triangle: \"))\n",
        "s2=int(input(\"enter side 2 of the triangle: \"))\n",
        "s3=int(input(\"enter side 3 of the triangle: \"))\n",
        "\n",
        "p=s1+s2+s3\n",
        "print(\"perimeter of the triangle is: \",p)\n",
        "\n",
        "s=p/2\n",
        "\n",
        "a=math.sqrt(s*(s-s1)*(s-s2)*(s-s3))\n",
        "print(\"Area of the triangle is: \",a)\n"
      ],
      "metadata": {
        "id": "ZbKj2ns8pxDD",
        "colab": {
          "base_uri": "https://localhost:8080/"
        },
        "outputId": "f7bac45f-3ecc-4b7b-f649-0d3b233ef687"
      },
      "execution_count": null,
      "outputs": [
        {
          "output_type": "stream",
          "name": "stdout",
          "text": [
            "enter side 1 of the triangle: 2\n",
            "enter side 2 of the triangle: 3\n",
            "enter side 3 of the triangle: 4\n",
            "perimeter of the triangle is:  9\n",
            "Area of the triangle is:  2.9047375096555625\n"
          ]
        }
      ]
    },
    {
      "cell_type": "code",
      "source": [
        "#info\n",
        "name=input(\"Name: \")\n",
        "course=input(\"Course: \")\n",
        "joining_year=int(input(\"Year of joining: \"))\n",
        "cu=input(\"College/University: \")\n",
        "dept=input(\"Department: \")\n",
        "\n",
        "print(\"Name: \",name.capitalize(),\"\\n\",\"Course: \",course.upper(),'\\n',\"Year of Joining: \",joining_year,\"\\n\",\"College/Universitiy: \",cu.upper(),\"\\n\",\"Department: \",dept.upper())\n"
      ],
      "metadata": {
        "colab": {
          "base_uri": "https://localhost:8080/"
        },
        "id": "eRQWL_7Q_RlY",
        "outputId": "ee4cd9c1-1b1a-4622-c904-ab9b2eae6b4a"
      },
      "execution_count": null,
      "outputs": [
        {
          "output_type": "stream",
          "name": "stdout",
          "text": [
            "Name: sutharya\n",
            "Course: imsc\n",
            "Year of joining: 2022\n",
            "College/University: cusat\n",
            "Department: dept. of computer science\n",
            "Name:  Sutharya \n",
            " Course:  IMSC \n",
            " Year of Joining:  2022 \n",
            " College/Universitiy:  CUSAT \n",
            " Department:  DEPT. OF COMPUTER SCIENCE\n"
          ]
        }
      ]
    },
    {
      "cell_type": "code",
      "source": [
        "#strings\n",
        "\n",
        "s=\"pello :)\"\n",
        "u=\"pellllloooo.. :)\"\n",
        "\n",
        "print(s)\n",
        "print(u)\n",
        "\n",
        "s1=\"Python\"\n",
        "s2=\"world\"\n",
        "s3=s1+\" \"+s2\n",
        "print(s3)"
      ],
      "metadata": {
        "colab": {
          "base_uri": "https://localhost:8080/"
        },
        "id": "E185GScDHxaX",
        "outputId": "6004bb7b-2272-417d-c4c1-512d8971de61"
      },
      "execution_count": null,
      "outputs": [
        {
          "output_type": "stream",
          "name": "stdout",
          "text": [
            "pello :)\n",
            "pellllloooo.. :)\n",
            "Python world\n"
          ]
        }
      ]
    },
    {
      "cell_type": "code",
      "source": [
        "#length and upper, lower & capitalize\n",
        "\n",
        "print(len(s3))\n",
        "print(s3.upper(),\"\\n\",s3.capitalize(),\"\\n\",s3.lower())"
      ],
      "metadata": {
        "colab": {
          "base_uri": "https://localhost:8080/"
        },
        "id": "CzRaQMRqIUm-",
        "outputId": "fa0683a8-dcc0-4275-c777-d6fadbd12960"
      },
      "execution_count": null,
      "outputs": [
        {
          "output_type": "stream",
          "name": "stdout",
          "text": [
            "12\n",
            "PYTHON WORLD \n",
            " Python world \n",
            " python world\n"
          ]
        }
      ]
    },
    {
      "cell_type": "code",
      "source": [
        "#split\n",
        "\n",
        "print(\"hello pello and mello :)\".split())"
      ],
      "metadata": {
        "colab": {
          "base_uri": "https://localhost:8080/"
        },
        "id": "TznbyODrI5ec",
        "outputId": "b58bc577-ece0-4246-d18b-2046a7be26a6"
      },
      "execution_count": null,
      "outputs": [
        {
          "output_type": "stream",
          "name": "stdout",
          "text": [
            "['hello', 'pello', 'and', 'mello', ':)']\n"
          ]
        }
      ]
    },
    {
      "cell_type": "code",
      "source": [
        "#replace and find\n",
        "\n",
        "print(\"book\".replace('o','O'))\n",
        "\n",
        "word=\"biology\"\n",
        "print(word.find('log'))\n",
        "print(word.find(\"hjhj\"))   #because the sub string does not exist, it returns -1"
      ],
      "metadata": {
        "colab": {
          "base_uri": "https://localhost:8080/"
        },
        "id": "6PzhfTEzJTG5",
        "outputId": "e882db44-b377-43ae-b9d9-aa4fa400e5b0"
      },
      "execution_count": null,
      "outputs": [
        {
          "output_type": "stream",
          "name": "stdout",
          "text": [
            "bOOk\n",
            "3\n",
            "-1\n"
          ]
        }
      ]
    },
    {
      "cell_type": "code",
      "source": [
        "#if-elif-else   is the number 2 digit or 3 digit or none\n",
        "\n",
        "number=int(input(\"Enter number: \"))\n",
        "if number>9 and number<100:\n",
        "  print(\"The number is a 2 digit number...!! :)\")\n",
        "elif number>99 and number<1000:\n",
        "  print(\"The number is a 3 digit number...!! :)\")\n",
        "else:\n",
        "  print(\"The number is neither a 2 digit nor a 3 digit number.. :(\")\n",
        "  "
      ],
      "metadata": {
        "colab": {
          "base_uri": "https://localhost:8080/"
        },
        "id": "H-Sk3f83LGGV",
        "outputId": "0f1a6d5a-88d7-4bbf-8943-3a1008bea4d4"
      },
      "execution_count": null,
      "outputs": [
        {
          "output_type": "stream",
          "name": "stdout",
          "text": [
            "Enter number: 356547\n",
            "The number is neither a 2 digit nor a 3 digit number.. :(\n"
          ]
        }
      ]
    }
  ]
}