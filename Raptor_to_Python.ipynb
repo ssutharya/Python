{
  "nbformat": 4,
  "nbformat_minor": 0,
  "metadata": {
    "colab": {
      "provenance": [],
      "authorship_tag": "ABX9TyOpe/6kLyYPQrN2FPDdpBGh"
    },
    "kernelspec": {
      "name": "python3",
      "display_name": "Python 3"
    },
    "language_info": {
      "name": "python"
    }
  },
  "cells": [
    {
      "cell_type": "code",
      "execution_count": null,
      "metadata": {
        "colab": {
          "base_uri": "https://localhost:8080/"
        },
        "id": "MPAEvUQqsMpP",
        "outputId": "7be2afbb-2efb-44fd-9b7f-cc6b0c48399a"
      },
      "outputs": [
        {
          "output_type": "stream",
          "name": "stdout",
          "text": [
            "Sum of 3 numbers..\n",
            "Enter number 1: 5\n",
            "Enter number 2: 5\n",
            "Enter number 3: 5\n",
            "Sum of the given 3 numbers is:  15\n",
            "Average of the 3 numbers is:  5.0\n"
          ]
        }
      ],
      "source": [
        "#sum and average of 3 numbers\n",
        "\n",
        "print(\"Sum of 3 numbers..\")\n",
        "a=int(input(\"Enter number 1: \"))\n",
        "b=int(input(\"Enter number 2: \"))\n",
        "c=int(input(\"Enter number 3: \"))\n",
        "sum=a+b+c\n",
        "print(\"Sum of the given 3 numbers is: \",sum)\n",
        "\n",
        "print(\"Average of the 3 numbers is: \",sum/3)"
      ]
    },
    {
      "cell_type": "code",
      "source": [
        "#comparing 2 numbers\n",
        "\n",
        "print(\"comparing 2 numbers, which is greater..?\")\n",
        "a=int(input(\"Enter first number: \"))\n",
        "b=int(input(\"Enter second number: \"))\n",
        "if a>b:\n",
        "  print(a, \" is the greater than \",b)\n",
        "else:\n",
        "  print(b,\" is greater than \",a)"
      ],
      "metadata": {
        "colab": {
          "base_uri": "https://localhost:8080/"
        },
        "id": "37qWJwrxuQrg",
        "outputId": "7814418c-374c-443d-d8e2-00af8e3b6bce"
      },
      "execution_count": null,
      "outputs": [
        {
          "output_type": "stream",
          "name": "stdout",
          "text": [
            "comparing 2 numbers, which is greater..?\n",
            "Enter first number: -3\n",
            "Enter second number: -8\n",
            "-3  is the greater than  -8\n"
          ]
        }
      ]
    },
    {
      "cell_type": "code",
      "source": [
        "##comparing 3 numbers\n",
        "\n",
        "print(\"Comparing 3 numbers, which is the greatest..?\")\n",
        "a=int(input(\"Enter first number: \"))\n",
        "b=int(input(\"Enter second number: \"))\n",
        "c=int(input(\"Enter third number: \"))\n",
        "if a>b>c or a>c>b:\n",
        "  print(a,\" is the greatest number out of \",a,\",\",b,\" and \",c)\n",
        "elif b>a>c or b>c>a:\n",
        "  print(b,\" is the greatest number out of \",a,\",\",b,\" and \",c)\n",
        "elif c>a>b or c>b>a:\n",
        "  print(c,\" is the greatest number out of \",a,\",\",b,\" and \",c)"
      ],
      "metadata": {
        "colab": {
          "base_uri": "https://localhost:8080/"
        },
        "id": "IURBPoi-vbMQ",
        "outputId": "804627e3-ddaa-4d30-d917-3b8ab649d106"
      },
      "execution_count": null,
      "outputs": [
        {
          "output_type": "stream",
          "name": "stdout",
          "text": [
            "Comparing 3 numbers, which is the greatest..?\n",
            "Enter first number: -2\n",
            "Enter second number: -7\n",
            "Enter third number: -1\n",
            "-1  is the greatest number out of  -2 , -7  and  -1\n"
          ]
        }
      ]
    },
    {
      "cell_type": "code",
      "source": [
        "#+ve, -ve or zero\n",
        "\n",
        "print(\"is the number positive, negative or zero..?\")\n",
        "a=int(input(\"Enter number to check: \"))\n",
        "if a==0:\n",
        "  print(a,\" is Zero\")\n",
        "elif a>0:\n",
        "  print(a,' is a positive number')\n",
        "else:\n",
        "  print(a,' is a negative number')"
      ],
      "metadata": {
        "colab": {
          "base_uri": "https://localhost:8080/"
        },
        "id": "cBPJvYe1x0s-",
        "outputId": "450fe6c1-81da-4d4b-d152-100cd6fb384d"
      },
      "execution_count": null,
      "outputs": [
        {
          "output_type": "stream",
          "name": "stdout",
          "text": [
            "is the number positive, negative or zero..?\n",
            "Enter number to check: 0\n",
            "0  is Zero\n"
          ]
        }
      ]
    },
    {
      "cell_type": "code",
      "source": [
        "#multiple of another\n",
        "\n",
        "print(\"is a given number the multiple of the other..?\")\n",
        "\n",
        "a=int(input('Enter a number: '))\n",
        "b=int(input(\"Enter another number: \"))\n",
        "if a%b==0:\n",
        "  print(a,' is a multiple of ',b)\n",
        "elif b%a==0:\n",
        "  print(b,' is a multiple of ',a)\n",
        "else:\n",
        "  print('neither ',a,' or ',b,' are multiples of eachother')"
      ],
      "metadata": {
        "colab": {
          "base_uri": "https://localhost:8080/"
        },
        "id": "w94_rfqByzfg",
        "outputId": "d2053e9d-a757-4ecf-aae1-6c9d9665bde6"
      },
      "execution_count": null,
      "outputs": [
        {
          "output_type": "stream",
          "name": "stdout",
          "text": [
            "is a given number the multiple of the other..?\n",
            "Enter a number: 324\n",
            "Enter another number: 7\n",
            "neither  324  or  7  are multiples of eachother\n"
          ]
        }
      ]
    },
    {
      "cell_type": "code",
      "source": [
        "#2 digit or not\n",
        "\n",
        "print(\"Is the given number a 2 digit number or not\")\n",
        "\n",
        "a=int(input('Enter a number to check: '))\n",
        "if 9<a<100 or -9>a>-100:\n",
        "  print(a,' is a 2 digit number')\n",
        "else:\n",
        "  print(a,' is not a 2 digit number')"
      ],
      "metadata": {
        "colab": {
          "base_uri": "https://localhost:8080/"
        },
        "id": "RG6L5Ys10Occ",
        "outputId": "4f76bb9f-9f36-49b8-d2fc-8bac347d70bf"
      },
      "execution_count": null,
      "outputs": [
        {
          "output_type": "stream",
          "name": "stdout",
          "text": [
            "Is the given number a 2 digit number or not\n",
            "Enter a number to check: -98\n",
            "-98  is a 2 digit number\n"
          ]
        }
      ]
    },
    {
      "cell_type": "code",
      "source": [
        "#smallest digit in a 2 digit number\n",
        "\n",
        "print(\"Which is the smallest digit in a given 2 digit number..?\")\n",
        "\n",
        "a=int(input('Enter a 2 digit number: '))\n",
        "if 9<a<100 :\n",
        "  first=a//10\n",
        "  second=a%10\n",
        "  if first>second:\n",
        "    print(second,' is the smaller digit in the number ',a)\n",
        "  elif first==second:\n",
        "    print('Both digits in',a,'are the same')\n",
        "  else:\n",
        "    print(first,' is the smaller digit in the number ',a)\n",
        "else:\n",
        "  print('Number is not a 2 digit number')"
      ],
      "metadata": {
        "id": "mwysWZ_k08l3",
        "colab": {
          "base_uri": "https://localhost:8080/"
        },
        "outputId": "ee38624d-1711-4b4a-a875-2271ea30dae4"
      },
      "execution_count": null,
      "outputs": [
        {
          "output_type": "stream",
          "name": "stdout",
          "text": [
            "Which is the smallest digit in a given 2 digit number..?\n",
            "Enter a 2 digit number: 54\n",
            "4  is the smaller digit in the number  54\n"
          ]
        }
      ]
    },
    {
      "cell_type": "code",
      "source": [
        "# distance between 2 points on a number line\n",
        "\n",
        "print('Distance between 2 points on a number line')\n",
        "\n",
        "a=int(input(\"Enter a point on the number line: \"))\n",
        "b=int(input(\"Enter another number on the number line: \"))\n",
        "d=b-a\n",
        "if d>0:\n",
        "  print(\"The distance between\",a,'and',b,\"is\",d)\n",
        "else:\n",
        "  d*=-1\n",
        "  print(\"The distance between\",a,'and',b,\"is\",d)"
      ],
      "metadata": {
        "colab": {
          "base_uri": "https://localhost:8080/"
        },
        "id": "uogdHDYLHb66",
        "outputId": "e78a22fc-3d6e-41fb-8a5a-39b7b6eec495"
      },
      "execution_count": null,
      "outputs": [
        {
          "output_type": "stream",
          "name": "stdout",
          "text": [
            "Distance between 2 points on a number line\n",
            "Enter a point on the number line: 6\n",
            "Enter another number on the number line: -2\n",
            "The distance between 6 and -2 is 8\n"
          ]
        }
      ]
    },
    {
      "cell_type": "code",
      "source": [
        "#print 1 to 10 using loops\n",
        "\n",
        "print(\"Printing 1 to 10 using loops\")\n",
        "\n",
        "for i in range(1,11):\n",
        "  print(i)\n",
        "\n",
        "#using while\n",
        "\n",
        "i=1\n",
        "while i<=10:\n",
        "  print(i)\n",
        "  i+=1"
      ],
      "metadata": {
        "id": "7eJ8MW8cIuKK",
        "colab": {
          "base_uri": "https://localhost:8080/"
        },
        "outputId": "efbcf2ed-909d-4fc6-ca61-64caec0e8303"
      },
      "execution_count": null,
      "outputs": [
        {
          "output_type": "stream",
          "name": "stdout",
          "text": [
            "Printing 1 to 10 using loops\n",
            "1\n",
            "2\n",
            "3\n",
            "4\n",
            "5\n",
            "6\n",
            "7\n",
            "8\n",
            "9\n",
            "10\n",
            "1\n",
            "2\n",
            "3\n",
            "4\n",
            "5\n",
            "6\n",
            "7\n",
            "8\n",
            "9\n",
            "10\n"
          ]
        }
      ]
    },
    {
      "cell_type": "code",
      "source": [
        "#sum of n natural numbers\n",
        "\n",
        "print(\"Sum of n natural numbers\")\n",
        "\n",
        "n=int(input('Enter the number of natural numbers needed: '))\n",
        "sum=0\n",
        "i=0\n",
        "while i<=n:\n",
        "  sum+=i\n",
        "  i+=1\n",
        "print(\"The sum of\",n,'natural numbers is',sum)"
      ],
      "metadata": {
        "colab": {
          "base_uri": "https://localhost:8080/"
        },
        "id": "dVdLfgo6JhDb",
        "outputId": "704291fa-5089-4ff5-fdcd-72604921777f"
      },
      "execution_count": null,
      "outputs": [
        {
          "output_type": "stream",
          "name": "stdout",
          "text": [
            "Sum of n natural numbers\n",
            "Enter the number of natural numbers needed: 5\n",
            "The sum of 5 natural numbers is 15\n"
          ]
        }
      ]
    },
    {
      "cell_type": "code",
      "source": [
        "#sum of factors of a number\n",
        "\n",
        "print('The sum of the factors of a given number')\n",
        "\n",
        "n=int(input(\"Enter number: \"))\n",
        "i=1\n",
        "sum=0\n",
        "while i<=n:\n",
        "  if n%i==0:\n",
        "    sum+=i\n",
        "  i+=1\n",
        "print(\"The sum of the factors of\",n,'is',sum)"
      ],
      "metadata": {
        "id": "o3RNWzP3Kfpi",
        "colab": {
          "base_uri": "https://localhost:8080/"
        },
        "outputId": "d273f1b6-8e1c-4cc2-fef6-5960df6fd413"
      },
      "execution_count": null,
      "outputs": [
        {
          "output_type": "stream",
          "name": "stdout",
          "text": [
            "The sum of the factors of a given number\n",
            "Enter number: 16\n",
            "The sum of the factors of 16 is 31\n"
          ]
        }
      ]
    },
    {
      "cell_type": "code",
      "source": [
        "#factorial\n",
        "\n",
        "print(\"Factorial of a given number\")\n",
        "\n",
        "\n",
        "def factorial(n):\n",
        "  n=int(input('Enter a number: '))\n",
        "  fact=1\n",
        "  for i in range(1,n+1):\n",
        "    fact*=i\n",
        "  print(\"The factorial of\",n,'is',fact)\n",
        "factorial(n)"
      ],
      "metadata": {
        "colab": {
          "base_uri": "https://localhost:8080/"
        },
        "id": "TlqSvCDoAbI1",
        "outputId": "6a177f75-17e1-49d3-8fa7-e060325c4687"
      },
      "execution_count": null,
      "outputs": [
        {
          "output_type": "stream",
          "name": "stdout",
          "text": [
            "Factorial of a given number\n",
            "Enter a number: 8\n",
            "The factorial of 8 is 40320\n"
          ]
        }
      ]
    },
    {
      "cell_type": "code",
      "source": [
        "#n terms of ap\n",
        "\n",
        "print(\"n terms of an ap\")\n",
        "\n",
        "a=int(input(\"Enter first term, a: \"))\n",
        "n=int(input(\"Enter number of terms, n: \"))\n",
        "d=int(input(\"Enter common difference, d: \"))\n",
        "i=1\n",
        "print(\"The ap is: \")\n",
        "while i<=n:\n",
        "  print(a,end=\",\")\n",
        "  a+=d\n",
        "  i+=1"
      ],
      "metadata": {
        "colab": {
          "base_uri": "https://localhost:8080/"
        },
        "id": "yGuvProGDaBg",
        "outputId": "0f6cc024-5edb-4f7a-ebd5-e4e338531a8d"
      },
      "execution_count": null,
      "outputs": [
        {
          "output_type": "stream",
          "name": "stdout",
          "text": [
            "n terms of an ap\n",
            "Enter first term, a: 1\n",
            "Enter number of terms, n: 12\n",
            "Enter common difference, d: 2\n",
            "The ap is: \n",
            "1,3,5,7,9,11,13,15,17,19,21,23,"
          ]
        }
      ]
    },
    {
      "cell_type": "code",
      "source": [
        "#first n odd numbers\n",
        "\n",
        "print(\"First n odd numbers\")\n",
        "\n",
        "n=int(input(\"Enter number of odd numbers wanted: \"))\n",
        "i=1\n",
        "while i<=2*n:\n",
        "  print(i)\n",
        "  i+=2"
      ],
      "metadata": {
        "colab": {
          "base_uri": "https://localhost:8080/"
        },
        "id": "PyAOjvWLE4BQ",
        "outputId": "de6a416d-937a-49b9-d58b-59c32d782c90"
      },
      "execution_count": null,
      "outputs": [
        {
          "output_type": "stream",
          "name": "stdout",
          "text": [
            "First n odd numbers\n",
            "Enter number of odd numbers wanted: 5\n",
            "1\n",
            "3\n",
            "5\n",
            "7\n",
            "9\n"
          ]
        }
      ]
    },
    {
      "cell_type": "code",
      "source": [
        "#palindrome\n",
        "\n",
        "print(\"Is the given number a palindrome..?\")\n",
        "\n",
        "n=int(input(\"Enter number to check for being a palindrome: \"))\n",
        "reverse=0\n",
        "temp_n=n\n",
        "while n!=0:\n",
        "  rem=n%10\n",
        "  reverse=reverse*10+rem\n",
        "  n=n//10\n",
        "if reverse==temp_n:\n",
        "  print(temp_n,\"is a palindrome\")\n",
        "else:\n",
        "  print(temp_n,'is not a palindrome')"
      ],
      "metadata": {
        "colab": {
          "base_uri": "https://localhost:8080/"
        },
        "id": "AMhHln0gKweh",
        "outputId": "134efbe2-6fee-439e-fb94-0b214d9ccd46"
      },
      "execution_count": null,
      "outputs": [
        {
          "output_type": "stream",
          "name": "stdout",
          "text": [
            "Is the given number a palindrome..?\n",
            "Enter number to check for being a palindrome: 5698\n",
            "5698 is not a palindrome\n"
          ]
        }
      ]
    },
    {
      "cell_type": "code",
      "source": [
        "#converting time entered in seconds to hours, minutes, seconds\n",
        "\n",
        "print(\"Converting time entered in seconds to hours, minutes, seconds\")\n",
        "\n",
        "s=int(input(\"Enter time in seconds: \"))\n",
        "ss=s%60\n",
        "mm=s//60\n",
        "hh=mm//60\n",
        "mm=mm%60\n",
        "print(hh,':',mm,':',ss)"
      ],
      "metadata": {
        "colab": {
          "base_uri": "https://localhost:8080/"
        },
        "id": "eyBSJTsVNO2m",
        "outputId": "518aeb60-350e-4b33-f483-43a9e9670cae"
      },
      "execution_count": null,
      "outputs": [
        {
          "output_type": "stream",
          "name": "stdout",
          "text": [
            "Converting time entered in seconds to hours, minutes, seconds\n",
            "Enter time in seconds: 6454\n",
            "1 : 47 : 34\n"
          ]
        }
      ]
    },
    {
      "cell_type": "code",
      "source": [
        "#area and perimeter of a triangle\n",
        "\n",
        "print(\"The Area and Perimeter of a triangle\")\n",
        "\n",
        "import math\n",
        "a=float(input(\"Enter the length os side A: \"))\n",
        "b=float(input(\"Enter the length os side B: \"))\n",
        "c=float(input(\"Enter the length os side C: \"))\n",
        "p=a+b+c\n",
        "s=p/2\n",
        "area=math.sqrt(s*(s-a)*(s-b)*(s-c))\n",
        "print(\"The perimeter is: \",p)\n",
        "print(\"The area is: \",area)"
      ],
      "metadata": {
        "colab": {
          "base_uri": "https://localhost:8080/"
        },
        "id": "ZwAyF268O0B8",
        "outputId": "7b86834e-f4e6-43e4-866e-f67445c58eb9"
      },
      "execution_count": null,
      "outputs": [
        {
          "output_type": "stream",
          "name": "stdout",
          "text": [
            "The Area and Perimeter of a triangle\n",
            "Enter the length os side A: 4\n",
            "Enter the length os side B: 6\n",
            "Enter the length os side C: 4\n",
            "The perimeter is:  14.0\n",
            "The area is:  7.937253933193772\n"
          ]
        }
      ]
    },
    {
      "cell_type": "code",
      "source": [
        "#area of a circle\n",
        "\n",
        "print(\"The area of a circle given radius..\")\n",
        "\n",
        "r=float(input(\"Enter the radius of the circle: \"))\n",
        "a=3.14*r*r\n",
        "print(\"The area of the circle is: \",a)"
      ],
      "metadata": {
        "colab": {
          "base_uri": "https://localhost:8080/"
        },
        "id": "fW44TNXcQCCh",
        "outputId": "4fe81bc5-5fab-485a-cbe9-d932134f547f"
      },
      "execution_count": null,
      "outputs": [
        {
          "output_type": "stream",
          "name": "stdout",
          "text": [
            "The area of a circle given radius..\n",
            "Enter the radius of the circle: 5\n",
            "The area of the circle is:  78.5\n"
          ]
        }
      ]
    },
    {
      "cell_type": "code",
      "source": [
        "#interchange 2 numbers without using a 3rd variable\n",
        "\n",
        "print(\"Interchanging 2 numbers without using a third variable..\")\n",
        "\n",
        "a=int(input(\"Enter the first number: \"))\n",
        "b=int(input(\"Enter the secodn number: \"))\n",
        "a=a+b\n",
        "b=a-b\n",
        "a=a-b\n",
        "print(\"The first number is\",a,\"and the second number is\",b)"
      ],
      "metadata": {
        "colab": {
          "base_uri": "https://localhost:8080/"
        },
        "id": "X06_uUdvQdKm",
        "outputId": "c721aa7e-b1c0-4f7e-8790-290b75a6bab4"
      },
      "execution_count": null,
      "outputs": [
        {
          "output_type": "stream",
          "name": "stdout",
          "text": [
            "Interchanging 2 numbers without using a third variable..\n",
            "Enter the first number: 5\n",
            "Enter the secodn number: 2\n",
            "The first number is 2 and the second number is 5\n"
          ]
        }
      ]
    },
    {
      "cell_type": "code",
      "source": [
        "#sum, difference, product, quotient and remainder of 2 numbers\n",
        "\n",
        "print('The sum, difference, product, quotient and remainder of 2 unequal numbers..')\n",
        "\n",
        "a=int(input(\"Enter number 1: \"))\n",
        "b=int(input(\"Enter number 2: \"))\n",
        "print(\"The sum of\",a,'and',b,'is',a+b)\n",
        "print(\"The difference of\",a,'and',b,'is',a-b)\n",
        "print(\"The product of\",a,'and',b,'is',a*b)\n",
        "print(\"The quotient of\",a,'and',b,'is',a/b)\n",
        "print(\"The remiander of\",a,'and',b,'is',a%b)"
      ],
      "metadata": {
        "colab": {
          "base_uri": "https://localhost:8080/"
        },
        "id": "upAtj-YwSG26",
        "outputId": "056d82d5-37fd-479d-802b-dd88b3fbba26"
      },
      "execution_count": null,
      "outputs": [
        {
          "output_type": "stream",
          "name": "stdout",
          "text": [
            "The sum, difference, product, quotient and remainder of 2 unequal numbers..\n",
            "Enter number 1: 5\n",
            "Enter number 2: 2\n",
            "The sum of 5 and 2 is 7\n",
            "The difference of 5 and 2 is 3\n",
            "The product of 5 and 2 is 10\n",
            "The quotient of 5 and 2 is 2.5\n",
            "The remiander of 5 and 2 is 1\n"
          ]
        }
      ]
    },
    {
      "cell_type": "code",
      "source": [
        "#days to years:months:days\n",
        "\n",
        "print(\"Converting numbers of days into years, months and days..\")\n",
        "\n",
        "d=int(input(\"Enter the number of days: \"))\n",
        "dd=d%30\n",
        "mm=d//30\n",
        "yy=mm//12\n",
        "mm=mm%12\n",
        "print(yy,\":\",mm,\":\",dd)"
      ],
      "metadata": {
        "colab": {
          "base_uri": "https://localhost:8080/"
        },
        "id": "Ttml94dFT5Ez",
        "outputId": "a059a73a-dfdd-4120-e8e2-f51e471e909c"
      },
      "execution_count": null,
      "outputs": [
        {
          "output_type": "stream",
          "name": "stdout",
          "text": [
            "Converting numbers of days into years, months and days..\n",
            "Enter the number of days: 456\n",
            "1 : 3 : 6\n"
          ]
        }
      ]
    },
    {
      "cell_type": "code",
      "source": [
        "#nature of solution of a quadratic equation\n",
        "\n",
        "print(\"Nature of solution of a quadratic equation\")\n",
        "\n",
        "a=float(input(\"Enter the co-efficient of x^2: \"))\n",
        "b=float(input(\"Enter the co-efficient of x: \"))\n",
        "c=float(input(\"Enter the constant: \"))\n",
        "d=b**2-(4*a*c)\n",
        "if d==0:\n",
        "  print(\"Real and equal roots\")\n",
        "elif d>0:\n",
        "  print(\"Real and unequal roots\")\n",
        "else:\n",
        "  print(\"Imaginary root\")"
      ],
      "metadata": {
        "colab": {
          "base_uri": "https://localhost:8080/"
        },
        "id": "FBqliHxkU_QW",
        "outputId": "b2281cac-ef28-432e-8120-cc46a1eb5a79"
      },
      "execution_count": null,
      "outputs": [
        {
          "output_type": "stream",
          "name": "stdout",
          "text": [
            "Nature of solution of a quadratic equation\n",
            "Enter the co-efficient of x^2: 5\n",
            "Enter the co-efficient of x: 4\n",
            "Enter the constant: 1\n",
            "Imaginary root\n"
          ]
        }
      ]
    },
    {
      "cell_type": "code",
      "source": [
        "#reverse of a given number\n",
        "\n",
        "print(\"The reverse of a given number..\")\n",
        "\n",
        "n=int(input(\"Enter a number: \"))\n",
        "rev=0\n",
        "nn=n\n",
        "while n!=0:\n",
        "  rem=n%10\n",
        "  rev=rev*10+rem\n",
        "  n=n//10\n",
        "print(\"The reverse of\",nn,\"is\",rev)"
      ],
      "metadata": {
        "colab": {
          "base_uri": "https://localhost:8080/"
        },
        "id": "vD0gVfw-WPY2",
        "outputId": "b8cba53f-f3fb-405e-d523-dbb5a5f8afa3"
      },
      "execution_count": null,
      "outputs": [
        {
          "output_type": "stream",
          "name": "stdout",
          "text": [
            "The reverse of a given number..\n",
            "Enter a number: 456\n",
            "The reverse of 456 is 654\n"
          ]
        }
      ]
    },
    {
      "cell_type": "code",
      "source": [
        "#fibonacci series\n",
        "\n",
        "print(\"n terms of Fibonacci series..\")\n",
        "\n",
        "n=int(input(\"Enter the number of terms: \"))\n",
        "first=1\n",
        "second=1\n",
        "print(first)\n",
        "print(second)\n",
        "for i in range(3,n+1):\n",
        "  print(first+second)\n",
        "  temp=first\n",
        "  first=second\n",
        "  second=temp+second"
      ],
      "metadata": {
        "colab": {
          "base_uri": "https://localhost:8080/"
        },
        "id": "UmxdaM3oZ6l3",
        "outputId": "4c9ec7d9-f576-4325-a513-7807145d79b2"
      },
      "execution_count": null,
      "outputs": [
        {
          "output_type": "stream",
          "name": "stdout",
          "text": [
            "n terms of Fibonacci series..\n",
            "Enter the number of terms: 8\n",
            "1\n",
            "1\n",
            "2\n",
            "3\n",
            "5\n",
            "8\n",
            "13\n",
            "21\n"
          ]
        }
      ]
    },
    {
      "cell_type": "code",
      "source": [
        "#armstrong number or not\n",
        "\n",
        "print(\"Is the given number an armstrong number or not..?\")\n",
        "\n",
        "n=int(input(\"Enter a number to check: \"))\n",
        "n1,n2=n,n\n",
        "length=0\n",
        "armstrong=0\n",
        "while n1>0:\n",
        "  n1=n1//10\n",
        "  length+=1\n",
        "while n2>0:\n",
        "  rem=n2%10\n",
        "  armstrong+=pow(rem,length)\n",
        "  n2//=10\n",
        "\n",
        "if armstrong==n:\n",
        "  print(n,\"is an armstrong number\")\n",
        "else:\n",
        "  print(n,\"is not an armstrong number\")"
      ],
      "metadata": {
        "colab": {
          "base_uri": "https://localhost:8080/"
        },
        "id": "ejXOz_ljcHAf",
        "outputId": "38e3a095-76f9-427c-e97c-6755edcd20c4"
      },
      "execution_count": null,
      "outputs": [
        {
          "output_type": "stream",
          "name": "stdout",
          "text": [
            "Is the given number an armstrong number or not..?\n",
            "Enter a number to check: 51461\n",
            "51461 is not an armstrong number\n"
          ]
        }
      ]
    },
    {
      "cell_type": "code",
      "source": [
        "#evaluate x^n\n",
        "\n",
        "print(\"To evaluate x^n..\")\n",
        "\n",
        "base=int(input(\"Enter the base: \"))\n",
        "power=int(input(\"Enter the power: \"))\n",
        "result=1\n",
        "p=power\n",
        "\n",
        "while power>0:\n",
        "  result*=base\n",
        "  power-=1\n",
        "print(base,\"raised to\",p,\"is\",result)"
      ],
      "metadata": {
        "colab": {
          "base_uri": "https://localhost:8080/"
        },
        "id": "_-BKU-bBd4xO",
        "outputId": "1cffa3c1-06d4-455c-8515-52a82bf0397a"
      },
      "execution_count": null,
      "outputs": [
        {
          "output_type": "stream",
          "name": "stdout",
          "text": [
            "To evaluate x^n..\n",
            "Enter the base: 8\n",
            "Enter the power: 3\n",
            "8 raised to 3 is 512\n"
          ]
        }
      ]
    },
    {
      "cell_type": "code",
      "source": [
        "#greatest common divisor (GCD)\n",
        "\n",
        "print(\"GCD (Greatest Common Divisor) of 2 numbers\")\n",
        "\n",
        "n1=int(input(\"Enter the first number: \"))\n",
        "n2=int(input(\"Enter the second number: \"))\n",
        "\n",
        "if n1%n2==0:\n",
        "  print(\"GCD is\",n2)\n",
        "else:\n",
        "  while n2!=0:\n",
        "    rem=n1%n2\n",
        "    n1=n2\n",
        "    n2=rem\n",
        "if n2==0:\n",
        "  print(\"GCD is\",n1)"
      ],
      "metadata": {
        "colab": {
          "base_uri": "https://localhost:8080/"
        },
        "id": "BPbHhMd5eldN",
        "outputId": "65a52103-6a39-4003-ec5f-5c99505d39bc"
      },
      "execution_count": null,
      "outputs": [
        {
          "output_type": "stream",
          "name": "stdout",
          "text": [
            "GCD (Greatest Common Divisor) of 2 numbers\n",
            "Enter the first number: 5\n",
            "Enter the second number: 15\n",
            "GCD is 5\n"
          ]
        }
      ]
    },
    {
      "cell_type": "code",
      "source": [
        "#sum of given series upto n terms\n",
        "\n",
        "print(\"Sum of given series upto n terms\")\n",
        "\n",
        "\n",
        "n = int(input(\"Enter the no of terms: \"))\n",
        "sum=0\n",
        "for i in range(1,n+1):\n",
        "  i=i*i\n",
        "  if i%2==0:\n",
        "    i=i*(-1)\n",
        "  sum=sum+i\n",
        "print(sum)"
      ],
      "metadata": {
        "colab": {
          "base_uri": "https://localhost:8080/"
        },
        "id": "CVFjkaqEfjvl",
        "outputId": "da12f352-e3a1-43ed-9f9f-68d16ef40e6d"
      },
      "execution_count": null,
      "outputs": [
        {
          "output_type": "stream",
          "name": "stdout",
          "text": [
            "Sum of given series upto n terms\n",
            "Enter the no of terms: 6\n",
            "-21\n"
          ]
        }
      ]
    },
    {
      "cell_type": "code",
      "source": [
        "#automorphic\n",
        "\n",
        "print(\"Is the given number automorphic or not..?\")\n",
        "\n",
        "n=int(input(\"Enter the number: \"))\n",
        "n1,n2=n,n\n",
        "length=0\n",
        "\n",
        "while n1>0:\n",
        "  n1//=10\n",
        "  length+=1\n",
        "result=pow(n,2)\n",
        "last=result%pow(10,length)\n",
        "if last==n:\n",
        "  print(n,\"is an automorphic number\")\n",
        "else:\n",
        "  print(n,\"is not an automorphic number\")"
      ],
      "metadata": {
        "colab": {
          "base_uri": "https://localhost:8080/"
        },
        "id": "PpY0HswcgwWb",
        "outputId": "d9b89b85-0ac6-43ff-f54b-00e4b1c99ac9"
      },
      "execution_count": null,
      "outputs": [
        {
          "output_type": "stream",
          "name": "stdout",
          "text": [
            "Is the given number automorphic or not..?\n",
            "Enter the number: 6\n",
            "6 is an automorphic number\n"
          ]
        }
      ]
    },
    {
      "cell_type": "code",
      "source": [
        "#binary number to its decimal equivalent\n",
        "\n",
        "print(\"Reading a binary number and printing its decimal equivalent\")\n",
        "\n",
        "bi=int(input(\"Enter the binary number: \"))\n",
        "bi1,bi2=bi,bi\n",
        "length,decimal=0,0\n",
        "\n",
        "while bi1>0:\n",
        "  bi1//=10\n",
        "  length+=1\n",
        "\n",
        "for i in range(length):\n",
        "  rem=bi%10\n",
        "  bi//=10\n",
        "  decimal+=rem*pow(2,i)\n",
        "\n",
        "print(\"The decimal equivalent of\",bi2,\"is\",decimal)"
      ],
      "metadata": {
        "colab": {
          "base_uri": "https://localhost:8080/"
        },
        "id": "OMMEz47hh4QA",
        "outputId": "2770d818-c605-40b7-ab19-d86148fc7fbc"
      },
      "execution_count": null,
      "outputs": [
        {
          "output_type": "stream",
          "name": "stdout",
          "text": [
            "Reading a binary number and printing its decimal equivalent\n",
            "Enter the binary number: 11111111\n",
            "The decimal equivalent of 11111111 is 255\n"
          ]
        }
      ]
    }
  ]
}